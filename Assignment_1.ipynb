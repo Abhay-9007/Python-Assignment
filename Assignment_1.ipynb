{
 "cells": [
  {
   "cell_type": "code",
   "execution_count": 9,
   "id": "5b3e8322-998a-422b-965a-c773a3475c20",
   "metadata": {},
   "outputs": [
    {
     "name": "stdout",
     "output_type": "stream",
     "text": [
      "45\n"
     ]
    }
   ],
   "source": [
    "def second_largest(nums):\n",
    "    m = -1\n",
    "    for i in nums:\n",
    "        if i > m:\n",
    "            m = i\n",
    "    m2 = -1\n",
    "    for i in nums:\n",
    "        if i > m2 and i!=m:\n",
    "            m2 = i\n",
    "    return m2\n",
    "\n",
    "print(second_largest([10, 20, 4, 45, 99]))"
   ]
  },
  {
   "cell_type": "code",
   "execution_count": 10,
   "id": "dc048c89-b5dc-42db-b86d-ea7b1a6712b8",
   "metadata": {},
   "outputs": [
    {
     "name": "stdout",
     "output_type": "stream",
     "text": [
      "[1, 2, 3, 4, 5]\n"
     ]
    }
   ],
   "source": [
    "def remove_duplicates_sorted(lst):\n",
    "    l1 = []\n",
    "    for item in lst:\n",
    "        if item not in l1:\n",
    "            l1.append(item)\n",
    "    for i in range(len(l1)):\n",
    "        for j in range(i + 1, len(l1)):\n",
    "            if l1[i] > l1[j]:\n",
    "                l1[i], l1[j] = l1[j], l1[i]\n",
    "    return l1\n",
    "\n",
    "print(remove_duplicates_sorted([4, 5, 2, 2, 1, 4, 3]))\n"
   ]
  },
  {
   "cell_type": "code",
   "execution_count": 3,
   "id": "c160310e-e2d5-4dd5-962a-08d4cedd7dc6",
   "metadata": {},
   "outputs": [
    {
     "name": "stdout",
     "output_type": "stream",
     "text": [
      "(100, 25.0)\n"
     ]
    }
   ],
   "source": [
    "def sum_and_average(lst):\n",
    "    total = sum(lst)\n",
    "    avg = total / len(lst) if lst else 0\n",
    "    return total, avg\n",
    "\n",
    "nums = [10, 20, 30, 40]\n",
    "print(sum_and_average(nums))\n"
   ]
  },
  {
   "cell_type": "code",
   "execution_count": 4,
   "id": "eb84bc1e-f33e-472b-911d-3920b53940cf",
   "metadata": {},
   "outputs": [
    {
     "name": "stdout",
     "output_type": "stream",
     "text": [
      "True\n"
     ]
    }
   ],
   "source": [
    "def is_prime(n):\n",
    "    if n <= 1:\n",
    "        return False\n",
    "    for i in range(2, int(n ** 0.5) + 1):\n",
    "        if n % i == 0:\n",
    "            return False\n",
    "    return True\n",
    "\n",
    "print(is_prime(29))  # Example\n"
   ]
  },
  {
   "cell_type": "code",
   "execution_count": 5,
   "id": "0c2c544c-928d-478c-a10c-7927ce60cd38",
   "metadata": {},
   "outputs": [
    {
     "name": "stdout",
     "output_type": "stream",
     "text": [
      "(2, 3, 4, 2)\n"
     ]
    }
   ],
   "source": [
    "def count_chars(s):\n",
    "    vowels = consonants = digits = specials = 0\n",
    "    for ch in s:\n",
    "        if ch.isdigit():\n",
    "            digits += 1\n",
    "        elif ch.isalpha():\n",
    "            if ch.lower() in 'aeiou':\n",
    "                vowels += 1\n",
    "            else:\n",
    "                consonants += 1\n",
    "        else:\n",
    "            specials += 1\n",
    "    return vowels, consonants, digits, specials\n",
    "\n",
    "print(count_chars(\"Hello@2023!\"))\n"
   ]
  },
  {
   "cell_type": "code",
   "execution_count": 6,
   "id": "534a0cb7-dcd0-4d3b-852b-b2be7c17602f",
   "metadata": {},
   "outputs": [
    {
     "name": "stdout",
     "output_type": "stream",
     "text": [
      "2 4 6 8 10 12 14 16 18 20 22 24 26 28 30 32 34 36 38 40 42 44 46 48 50 52 54 56 58 60 62 64 66 68 70 72 74 76 78 80 82 84 86 88 90 92 94 96 98 100 "
     ]
    }
   ],
   "source": [
    "for i in range(2, 101, 2):\n",
    "    print(i, end=' ')\n"
   ]
  },
  {
   "cell_type": "code",
   "execution_count": 7,
   "id": "f3420e98-e6b5-4a62-a7f9-a123f1c6af6d",
   "metadata": {},
   "outputs": [
    {
     "name": "stdout",
     "output_type": "stream",
     "text": [
      "Enter a number:  5\n"
     ]
    },
    {
     "name": "stdout",
     "output_type": "stream",
     "text": [
      "5 x 1 = 5\n",
      "5 x 2 = 10\n",
      "5 x 3 = 15\n",
      "5 x 4 = 20\n",
      "5 x 5 = 25\n",
      "5 x 6 = 30\n",
      "5 x 7 = 35\n",
      "5 x 8 = 40\n",
      "5 x 9 = 45\n",
      "5 x 10 = 50\n"
     ]
    }
   ],
   "source": [
    "num = int(input(\"Enter a number: \"))\n",
    "for i in range(1, 11):\n",
    "    print(f\"{num} x {i} = {num * i}\")\n"
   ]
  },
  {
   "cell_type": "code",
   "execution_count": 8,
   "id": "ee156726-6afd-4cf2-ac5c-a97fa5c54945",
   "metadata": {},
   "outputs": [
    {
     "name": "stdout",
     "output_type": "stream",
     "text": [
      "[15, 30, 45, 60, 75, 90]\n"
     ]
    }
   ],
   "source": [
    "divisible_by_3_and_5 = [i for i in range(1, 101) if i % 3 == 0 and i % 5 == 0]\n",
    "print(divisible_by_3_and_5)\n"
   ]
  },
  {
   "cell_type": "code",
   "execution_count": 9,
   "id": "33559f77-4c17-4ecf-93bb-5506085c6c8d",
   "metadata": {},
   "outputs": [
    {
     "name": "stdout",
     "output_type": "stream",
     "text": [
      "Enter a number:  5\n"
     ]
    },
    {
     "name": "stdout",
     "output_type": "stream",
     "text": [
      "Reversed number: 5\n"
     ]
    }
   ],
   "source": [
    "num = int(input(\"Enter a number: \"))\n",
    "reverse = int(str(num)[::-1])\n",
    "print(\"Reversed number:\", reverse)\n"
   ]
  },
  {
   "cell_type": "code",
   "execution_count": 10,
   "id": "91100227-33dd-45a0-b77b-30ed9b3baed6",
   "metadata": {},
   "outputs": [
    {
     "name": "stdout",
     "output_type": "stream",
     "text": [
      "{'p': 1, 'r': 2, 'o': 1, 'g': 2, 'a': 1, 'm': 2, 'i': 1, 'n': 1}\n"
     ]
    }
   ],
   "source": [
    "def char_frequency(s):\n",
    "    freq = {}\n",
    "    for ch in s:\n",
    "        freq[ch] = freq.get(ch, 0) + 1\n",
    "    return freq\n",
    "\n",
    "print(char_frequency(\"programming\"))\n"
   ]
  },
  {
   "cell_type": "code",
   "execution_count": 11,
   "id": "0e7c52a6-84ca-4919-b03b-718f6d1f0e4b",
   "metadata": {},
   "outputs": [
    {
     "name": "stdout",
     "output_type": "stream",
     "text": [
      "[2, 3, 5, 7, 11, 13, 17, 19, 23, 29]\n"
     ]
    }
   ],
   "source": [
    "def generate_primes(n):\n",
    "    primes = []\n",
    "    num = 2\n",
    "    while len(primes) < n:\n",
    "        for p in primes:\n",
    "            if num % p == 0:\n",
    "                break\n",
    "        else:\n",
    "            primes.append(num)\n",
    "        num += 1\n",
    "    return primes\n",
    "\n",
    "print(generate_primes(10))  # First 10 primes\n"
   ]
  },
  {
   "cell_type": "code",
   "execution_count": 12,
   "id": "ecd5ec46-389f-4b67-a487-1df8626ce06f",
   "metadata": {},
   "outputs": [
    {
     "name": "stdout",
     "output_type": "stream",
     "text": [
      "True\n",
      "False\n"
     ]
    }
   ],
   "source": [
    "def is_palindrome(num):\n",
    "    return str(num) == str(num)[::-1]\n",
    "\n",
    "print(is_palindrome(121))  # True\n",
    "print(is_palindrome(123))  # False\n"
   ]
  },
  {
   "cell_type": "code",
   "execution_count": 13,
   "id": "3304209e-b745-4730-8679-a13bbce41f60",
   "metadata": {},
   "outputs": [
    {
     "name": "stdout",
     "output_type": "stream",
     "text": [
      "3\n"
     ]
    }
   ],
   "source": [
    "def count_occurrences(lst, element):\n",
    "    count = 0\n",
    "    for item in lst:\n",
    "        if item == element:\n",
    "            count += 1\n",
    "    return count\n",
    "\n",
    "print(count_occurrences([1, 2, 3, 2, 4, 2], 2))  # Output: 3\n"
   ]
  },
  {
   "cell_type": "code",
   "execution_count": 14,
   "id": "ab98710f-388d-4a16-ac3f-c4d8eafd3d80",
   "metadata": {},
   "outputs": [
    {
     "name": "stdout",
     "output_type": "stream",
     "text": [
      "[4, 16, 36, 64, 100, 144, 196, 256, 324, 400, 484, 576, 676, 784, 900, 1024, 1156, 1296, 1444, 1600, 1764, 1936, 2116, 2304, 2500]\n"
     ]
    }
   ],
   "source": [
    "squares = [i ** 2 for i in range(2, 51, 2)]\n",
    "print(squares)\n"
   ]
  },
  {
   "cell_type": "code",
   "execution_count": 15,
   "id": "d886a15c-19b7-461f-be39-7eb0edee339e",
   "metadata": {},
   "outputs": [
    {
     "name": "stdout",
     "output_type": "stream",
     "text": [
      "[1, 2, 3, 4]\n"
     ]
    }
   ],
   "source": [
    "def unique_list(lst):\n",
    "    seen = []\n",
    "    for item in lst:\n",
    "        if item not in seen:\n",
    "            seen.append(item)\n",
    "    return seen\n",
    "\n",
    "print(unique_list([1, 2, 2, 3, 1, 4, 3]))  # Output: [1, 2, 3, 4]\n"
   ]
  },
  {
   "cell_type": "code",
   "execution_count": 16,
   "id": "3a09b6e5-8b9d-4149-912c-376c8dfff107",
   "metadata": {},
   "outputs": [
    {
     "name": "stdout",
     "output_type": "stream",
     "text": [
      "Odd\n"
     ]
    }
   ],
   "source": [
    "def is_even_or_odd(n):\n",
    "    return \"Even\" if n % 2 == 0 else \"Odd\"\n",
    "\n",
    "print(is_even_or_odd(5))  # Odd"
   ]
  },
  {
   "cell_type": "code",
   "execution_count": 17,
   "id": "3fd6e665-3d7b-4091-8a4d-ae2ddc9c9ed4",
   "metadata": {},
   "outputs": [
    {
     "name": "stdout",
     "output_type": "stream",
     "text": [
      "[1, 3, 6, 10]\n"
     ]
    }
   ],
   "source": [
    "def cumulative_sum(lst):\n",
    "    total = 0\n",
    "    result = []\n",
    "    for num in lst:\n",
    "        total += num\n",
    "        result.append(total)\n",
    "    return result\n",
    "\n",
    "print(cumulative_sum([1, 2, 3, 4]))  # [1, 3, 6, 10]\n"
   ]
  },
  {
   "cell_type": "code",
   "execution_count": 18,
   "id": "c4d7c68f-abc3-4dda-85fd-0c754ac0a185",
   "metadata": {},
   "outputs": [
    {
     "name": "stdout",
     "output_type": "stream",
     "text": [
      "120\n"
     ]
    }
   ],
   "source": [
    "def factorial(n):\n",
    "    if n == 0 or n == 1:\n",
    "        return 1\n",
    "    return n * factorial(n - 1)\n",
    "\n",
    "print(factorial(5))  # 120\n"
   ]
  },
  {
   "cell_type": "code",
   "execution_count": 19,
   "id": "859c4a68-ddca-4e18-9569-0ee30c2b574f",
   "metadata": {},
   "outputs": [
    {
     "name": "stdout",
     "output_type": "stream",
     "text": [
      "[0, 1, 1, 2, 3, 5, 8, 13, 21, 34]\n"
     ]
    }
   ],
   "source": [
    "def fibonacci(n):\n",
    "    fib = [0, 1]\n",
    "    for i in range(2, n):\n",
    "        fib.append(fib[-1] + fib[-2])\n",
    "    return fib[:n]\n",
    "\n",
    "print(fibonacci(10))\n"
   ]
  },
  {
   "cell_type": "code",
   "execution_count": 20,
   "id": "f3992fb7-cc66-49c2-8bc9-c7f955458b22",
   "metadata": {},
   "outputs": [
    {
     "name": "stdout",
     "output_type": "stream",
     "text": [
      "True\n"
     ]
    }
   ],
   "source": [
    "def is_palindrome_string(s):\n",
    "    return s == s[::-1]\n",
    "\n",
    "print(is_palindrome_string(\"madam\"))  # True\n"
   ]
  },
  {
   "cell_type": "code",
   "execution_count": 21,
   "id": "70e7d7c1-9cae-441e-8f6d-a7c23297cc2a",
   "metadata": {},
   "outputs": [
    {
     "name": "stdout",
     "output_type": "stream",
     "text": [
      "(9, 1)\n"
     ]
    }
   ],
   "source": [
    "def max_min(lst):\n",
    "    maximum = minimum = lst[0]\n",
    "    for num in lst:\n",
    "        if num > maximum:\n",
    "            maximum = num\n",
    "        if num < minimum:\n",
    "            minimum = num\n",
    "    return maximum, minimum\n",
    "\n",
    "print(max_min([3, 5, 1, 7, 9]))  # (9, 1)\n"
   ]
  },
  {
   "cell_type": "code",
   "execution_count": 22,
   "id": "4f070a5d-4279-45d2-9551-5c3fb186ec70",
   "metadata": {},
   "outputs": [
    {
     "name": "stdout",
     "output_type": "stream",
     "text": [
      "True\n"
     ]
    }
   ],
   "source": [
    "def is_pangram(s):\n",
    "    alphabet = \"abcdefghijklmnopqrstuvwxyz\"\n",
    "    return all(char in s.lower() for char in alphabet)\n",
    "\n",
    "print(is_pangram(\"The quick brown fox jumps over a lazy dog\"))  # True\n"
   ]
  },
  {
   "cell_type": "code",
   "execution_count": 23,
   "id": "55296db5-a501-4825-8520-be52fc2148e5",
   "metadata": {},
   "outputs": [
    {
     "name": "stdout",
     "output_type": "stream",
     "text": [
      "[11, 13, 17, 19, 23, 29]\n"
     ]
    }
   ],
   "source": [
    "def primes_in_range(start, end):\n",
    "    primes = []\n",
    "    for num in range(start, end + 1):\n",
    "        if num > 1:\n",
    "            for i in range(2, int(num**0.5) + 1):\n",
    "                if num % i == 0:\n",
    "                    break\n",
    "            else:\n",
    "                primes.append(num)\n",
    "    return primes\n",
    "\n",
    "print(primes_in_range(10, 30))\n"
   ]
  },
  {
   "cell_type": "code",
   "execution_count": 24,
   "id": "124af924-ec6f-431d-832f-d084bf3d8a75",
   "metadata": {},
   "outputs": [
    {
     "name": "stdout",
     "output_type": "stream",
     "text": [
      "(2, 8)\n"
     ]
    }
   ],
   "source": [
    "def count_case(s):\n",
    "    upper = lower = 0\n",
    "    for ch in s:\n",
    "        if ch.isupper():\n",
    "            upper += 1\n",
    "        elif ch.islower():\n",
    "            lower += 1\n",
    "    return upper, lower\n",
    "\n",
    "print(count_case(\"Hello World!\"))  # (2, 8)\n"
   ]
  },
  {
   "cell_type": "code",
   "execution_count": 25,
   "id": "9848321c-ff50-4ccd-a096-deda121500ce",
   "metadata": {},
   "outputs": [
    {
     "name": "stdout",
     "output_type": "stream",
     "text": [
      "10\n"
     ]
    }
   ],
   "source": [
    "def sum_of_digits(n):\n",
    "    return sum(int(d) for d in str(abs(n)))\n",
    "\n",
    "print(sum_of_digits(1234))  # 10\n"
   ]
  },
  {
   "cell_type": "code",
   "execution_count": 26,
   "id": "498a7e2a-c131-4ebd-8aaa-93647457b7fc",
   "metadata": {},
   "outputs": [
    {
     "name": "stdout",
     "output_type": "stream",
     "text": [
      "5\n"
     ]
    }
   ],
   "source": [
    "def word_count(sentence):\n",
    "    return len(sentence.split())\n",
    "\n",
    "print(word_count(\"This is a sample sentence.\"))  # 5\n"
   ]
  },
  {
   "cell_type": "code",
   "execution_count": 27,
   "id": "fe45af55-c7c3-45fc-9de8-422329d72d29",
   "metadata": {},
   "outputs": [
    {
     "name": "stdout",
     "output_type": "stream",
     "text": [
      "Hello world Hows it going\n"
     ]
    }
   ],
   "source": [
    "import string\n",
    "\n",
    "def remove_punctuation(s):\n",
    "    return ''.join(ch for ch in s if ch not in string.punctuation)\n",
    "\n",
    "print(remove_punctuation(\"Hello, world! How's it going?\"))\n"
   ]
  },
  {
   "cell_type": "code",
   "execution_count": 28,
   "id": "79e1703e-ae3f-4785-8f6a-4d9416e68dde",
   "metadata": {},
   "outputs": [
    {
     "name": "stdout",
     "output_type": "stream",
     "text": [
      "6\n"
     ]
    }
   ],
   "source": [
    "def gcd(a, b):\n",
    "    while b:\n",
    "        a, b = b, a % b\n",
    "    return a\n",
    "\n",
    "print(gcd(48, 18))  # 6\n"
   ]
  },
  {
   "cell_type": "code",
   "execution_count": 29,
   "id": "5fc31438-f3d4-4ecf-a356-ceda74009b20",
   "metadata": {},
   "outputs": [
    {
     "name": "stdout",
     "output_type": "stream",
     "text": [
      "[2, 3]\n"
     ]
    }
   ],
   "source": [
    "def duplicates(lst):\n",
    "    seen = {}\n",
    "    result = []\n",
    "    for item in lst:\n",
    "        seen[item] = seen.get(item, 0) + 1\n",
    "    for key, value in seen.items():\n",
    "        if value > 1:\n",
    "            result.append(key)\n",
    "    return result\n",
    "\n",
    "print(duplicates([1, 2, 3, 2, 3, 4, 5]))\n"
   ]
  },
  {
   "cell_type": "code",
   "execution_count": 30,
   "id": "f86c2187-bac9-4834-a3d7-bbe92d5d3667",
   "metadata": {},
   "outputs": [
    {
     "name": "stdout",
     "output_type": "stream",
     "text": [
      "25\n"
     ]
    }
   ],
   "source": [
    "def largest_of_three(a, b, c):\n",
    "    return max(a, b, c)\n",
    "\n",
    "print(largest_of_three(10, 25, 15))  # 25\n"
   ]
  },
  {
   "cell_type": "code",
   "execution_count": 31,
   "id": "b040e48b-b0d7-42fa-ad23-10c437b5747d",
   "metadata": {},
   "outputs": [
    {
     "name": "stdout",
     "output_type": "stream",
     "text": [
      "a hello is sentence test this\n"
     ]
    }
   ],
   "source": [
    "def sort_sentence(sentence):\n",
    "    words = sentence.split()\n",
    "    words.sort()\n",
    "    return ' '.join(words)\n",
    "\n",
    "print(sort_sentence(\"hello this is a test sentence\"))\n"
   ]
  },
  {
   "cell_type": "code",
   "execution_count": 32,
   "id": "1048a368-3fd1-473c-942a-0d51aa9e2804",
   "metadata": {},
   "outputs": [
    {
     "name": "stdout",
     "output_type": "stream",
     "text": [
      "{'a': 1, 'b': 2, 'c': 3, 'd': 4}\n"
     ]
    }
   ],
   "source": [
    "dict1 = {'a': 1, 'b': 2}\n",
    "dict2 = {'c': 3, 'd': 4}\n",
    "dict1.update(dict2)\n",
    "print(dict1)\n"
   ]
  },
  {
   "cell_type": "code",
   "execution_count": 33,
   "id": "d4b7b338-eeb8-4ae7-8487-7650902176d2",
   "metadata": {},
   "outputs": [
    {
     "name": "stdout",
     "output_type": "stream",
     "text": [
      "{'This': 1, 'is': 1, 'an': 1, 'example': 3}\n"
     ]
    }
   ],
   "source": [
    "def count_vowels_per_word(sentence):\n",
    "    vowels = 'aeiouAEIOU'\n",
    "    result = {}\n",
    "    for word in sentence.split():\n",
    "        count = sum(1 for ch in word if ch in vowels)\n",
    "        result[word] = count\n",
    "    return result\n",
    "\n",
    "print(count_vowels_per_word(\"This is an example\"))\n"
   ]
  },
  {
   "cell_type": "code",
   "execution_count": 34,
   "id": "d90647a6-9e6a-4f7e-9d37-3fb21f3c8b32",
   "metadata": {},
   "outputs": [
    {
     "name": "stdout",
     "output_type": "stream",
     "text": [
      "[1, 2, 3, 4]\n"
     ]
    }
   ],
   "source": [
    "tpl = (1, 2, 3, 4)\n",
    "lst = list(tpl)\n",
    "print(lst)\n"
   ]
  },
  {
   "cell_type": "code",
   "execution_count": 35,
   "id": "287525d7-2ca3-456e-b767-cd132da8b2e5",
   "metadata": {},
   "outputs": [
    {
     "name": "stdout",
     "output_type": "stream",
     "text": [
      "HelloWorld\n"
     ]
    }
   ],
   "source": [
    "def remove_whitespace(s):\n",
    "    return ''.join(s.split())\n",
    "\n",
    "print(remove_whitespace(\"  He llo  W or ld \"))\n"
   ]
  },
  {
   "cell_type": "code",
   "execution_count": 36,
   "id": "8afd5df7-f72d-43fb-8343-28979a083d21",
   "metadata": {},
   "outputs": [
    {
     "name": "stdout",
     "output_type": "stream",
     "text": [
      "{'a': 1, 'b': 2, 'c': 3}\n"
     ]
    }
   ],
   "source": [
    "keys = ['a', 'b', 'c']\n",
    "values = [1, 2, 3]\n",
    "merged = dict(zip(keys, values))\n",
    "print(merged)\n"
   ]
  },
  {
   "cell_type": "code",
   "execution_count": 2,
   "id": "9dcd7597-0e22-4d2d-8016-ea79a50635cc",
   "metadata": {},
   "outputs": [
    {
     "name": "stdout",
     "output_type": "stream",
     "text": [
      "b\n"
     ]
    }
   ],
   "source": [
    "d = {'a': 10, 'b': 20, 'c': 5}\n",
    "max_key = max(d, key=d.get)\n",
    "print(max_key)\n"
   ]
  },
  {
   "cell_type": "code",
   "execution_count": 38,
   "id": "0b78ddc7-2ff6-4816-bbaf-4e37dd9d44e9",
   "metadata": {},
   "outputs": [
    {
     "name": "stdout",
     "output_type": "stream",
     "text": [
      "{'this': 2, 'is': 2, 'a': 2, 'test': 2, 'only': 1}\n"
     ]
    }
   ],
   "source": [
    "def word_frequencies(sentence):\n",
    "    words = sentence.split()\n",
    "    freq = {}\n",
    "    for word in words:\n",
    "        freq[word] = freq.get(word, 0) + 1\n",
    "    return freq\n",
    "\n",
    "print(word_frequencies(\"this is a test this is only a test\"))\n"
   ]
  },
  {
   "cell_type": "code",
   "execution_count": 39,
   "id": "bb18a8d5-dc88-42b6-9bbd-710d53eaec5a",
   "metadata": {},
   "outputs": [
    {
     "name": "stdout",
     "output_type": "stream",
     "text": [
      "True\n"
     ]
    }
   ],
   "source": [
    "d = {'name': 'Alice', 'age': 25}\n",
    "key = 'age'\n",
    "print(key in d)\n"
   ]
  },
  {
   "cell_type": "code",
   "execution_count": 40,
   "id": "15509de6-ec86-4dcd-9677-b3f024aa9b8b",
   "metadata": {},
   "outputs": [
    {
     "name": "stdout",
     "output_type": "stream",
     "text": [
      "R*pl*c* v*w*ls h*r*\n"
     ]
    }
   ],
   "source": [
    "def replace_vowels(s):\n",
    "    vowels = 'aeiouAEIOU'\n",
    "    return ''.join('*' if ch in vowels else ch for ch in s)\n",
    "\n",
    "print(replace_vowels(\"Replace vowels here\"))\n"
   ]
  },
  {
   "cell_type": "code",
   "execution_count": 42,
   "id": "ded7df4c-2ecd-4a71-877e-a03afee190ac",
   "metadata": {},
   "outputs": [
    {
     "name": "stdout",
     "output_type": "stream",
     "text": [
      "Abhay is a Good Boy...\n"
     ]
    }
   ],
   "source": [
    "f = open(\"sample.txt\",\"w\")\n",
    "f.write(\"Abhay is a Good Boy...\")\n",
    "f.close()\n",
    "f = open(\"Sample.txt\",\"r\")\n",
    "data = f.read()\n",
    "print(data)\n"
   ]
  },
  {
   "cell_type": "code",
   "execution_count": 44,
   "id": "999c335e-c691-4e3f-8b2c-e0db189e47d4",
   "metadata": {},
   "outputs": [
    {
     "name": "stdout",
     "output_type": "stream",
     "text": [
      "5\n"
     ]
    }
   ],
   "source": [
    "def count_words_in_file(filename):\n",
    "    with open(filename, 'r') as file:\n",
    "        text = file.read()\n",
    "    return len(text.split())\n",
    "\n",
    "print(count_words_in_file('sample.txt'))\n"
   ]
  }
 ],
 "metadata": {
  "kernelspec": {
   "display_name": "base",
   "language": "python",
   "name": "python3"
  },
  "language_info": {
   "codemirror_mode": {
    "name": "ipython",
    "version": 3
   },
   "file_extension": ".py",
   "mimetype": "text/x-python",
   "name": "python",
   "nbconvert_exporter": "python",
   "pygments_lexer": "ipython3",
   "version": "3.12.7"
  }
 },
 "nbformat": 4,
 "nbformat_minor": 5
}
