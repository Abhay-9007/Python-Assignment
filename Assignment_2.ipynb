{
 "cells": [
  {
   "cell_type": "code",
   "execution_count": 68,
   "metadata": {},
   "outputs": [],
   "source": [
    "import numpy as np"
   ]
  },
  {
   "cell_type": "code",
   "execution_count": 69,
   "metadata": {},
   "outputs": [
    {
     "name": "stdout",
     "output_type": "stream",
     "text": [
      "int64\n"
     ]
    }
   ],
   "source": [
    "arr = np.array([0, 1, 2, 3, 4, 5])\n",
    "print(arr.dtype)"
   ]
  },
  {
   "cell_type": "code",
   "execution_count": 70,
   "metadata": {},
   "outputs": [
    {
     "name": "stdout",
     "output_type": "stream",
     "text": [
      "True\n"
     ]
    }
   ],
   "source": [
    "arr_float = np.array([1.0, 2.0, 3.0])\n",
    "print(arr_float.dtype == np.float64)"
   ]
  },
  {
   "cell_type": "code",
   "execution_count": 71,
   "metadata": {},
   "outputs": [
    {
     "name": "stdout",
     "output_type": "stream",
     "text": [
      "3. Complex array: [1.+2.j 3.+4.j 5.+6.j] dtype: complex128\n"
     ]
    }
   ],
   "source": [
    "arr_complex = np.array([1+2j, 3+4j, 5+6j], dtype=np.complex128)\n",
    "print(\"3. Complex array:\", arr_complex, \"dtype:\", arr_complex.dtype)"
   ]
  },
  {
   "cell_type": "code",
   "execution_count": 72,
   "metadata": {},
   "outputs": [
    {
     "name": "stdout",
     "output_type": "stream",
     "text": [
      "4. Float32 array: [1. 2. 3. 4. 5.] dtype: float32\n"
     ]
    }
   ],
   "source": [
    "arr_int = np.array([1, 2, 3, 4, 5])\n",
    "arr_float32 = arr_int.astype(np.float32)\n",
    "print(\"4. Float32 array:\", arr_float32, \"dtype:\", arr_float32.dtype)"
   ]
  },
  {
   "cell_type": "code",
   "execution_count": 73,
   "metadata": {},
   "outputs": [
    {
     "name": "stdout",
     "output_type": "stream",
     "text": [
      "5. Converted to float32: [1. 2. 3.] dtype: float32\n"
     ]
    }
   ],
   "source": [
    "arr_float64 = np.array([1.0, 2.0, 3.0], dtype=np.float64)\n",
    "arr_float32 = arr_float64.astype(np.float32)\n",
    "print(\"5. Converted to float32:\", arr_float32, \"dtype:\", arr_float32.dtype)"
   ]
  },
  {
   "cell_type": "code",
   "execution_count": 74,
   "metadata": {},
   "outputs": [
    {
     "name": "stdout",
     "output_type": "stream",
     "text": [
      "6. Array attributes: ((2, 2), 4, dtype('int64'))\n"
     ]
    }
   ],
   "source": [
    "def array_attributes(arr):\n",
    "    return arr.shape, arr.size, arr.dtype\n",
    "print(\"6. Array attributes:\", array_attributes(np.array([[1, 2], [3, 4]])))\n"
   ]
  },
  {
   "cell_type": "code",
   "execution_count": 75,
   "metadata": {},
   "outputs": [
    {
     "name": "stdout",
     "output_type": "stream",
     "text": [
      "7. Array dimension: 2\n"
     ]
    }
   ],
   "source": [
    "def array_dimension(arr):\n",
    "    return arr.ndim\n",
    "print(\"7. Array dimension:\", array_dimension(np.array([[1, 2], [3, 4]])))"
   ]
  },
  {
   "cell_type": "code",
   "execution_count": 76,
   "metadata": {},
   "outputs": [
    {
     "name": "stdout",
     "output_type": "stream",
     "text": [
      "8. Item size and total size: (8, 24)\n"
     ]
    }
   ],
   "source": [
    "def item_size_info(arr):\n",
    "    return arr.itemsize, arr.nbytes\n",
    "print(\"8. Item size and total size:\", item_size_info(np.array([1, 2, 3])))"
   ]
  },
  {
   "cell_type": "code",
   "execution_count": 77,
   "metadata": {},
   "outputs": [
    {
     "name": "stdout",
     "output_type": "stream",
     "text": [
      "9. Array strides: (16, 8)\n"
     ]
    }
   ],
   "source": [
    "def array_strides(arr):\n",
    "    return arr.strides\n",
    "print(\"9. Array strides:\", array_strides(np.array([[1, 2], [3, 4]])))"
   ]
  },
  {
   "cell_type": "code",
   "execution_count": 78,
   "metadata": {},
   "outputs": [
    {
     "name": "stdout",
     "output_type": "stream",
     "text": [
      "10. Shape and strides: ((2, 2), (16, 8))\n"
     ]
    }
   ],
   "source": [
    "def shape_strides_relationship(arr):\n",
    "    return arr.shape, arr.strides\n",
    "print(\"10. Shape and strides:\", shape_strides_relationship(np.array([[1, 2], [3, 4]])))\n"
   ]
  },
  {
   "cell_type": "code",
   "execution_count": 79,
   "metadata": {},
   "outputs": [
    {
     "name": "stdout",
     "output_type": "stream",
     "text": [
      "11. Zeros array: [0. 0. 0. 0. 0.]\n"
     ]
    }
   ],
   "source": [
    "def create_zeros_array(n):\n",
    "    return np.zeros(n)\n",
    "print(\"11. Zeros array:\", create_zeros_array(5))\n"
   ]
  },
  {
   "cell_type": "code",
   "execution_count": 80,
   "metadata": {},
   "outputs": [
    {
     "name": "stdout",
     "output_type": "stream",
     "text": [
      "12. Ones matrix: [[1. 1. 1.]\n",
      " [1. 1. 1.]]\n"
     ]
    }
   ],
   "source": [
    "def create_ones_matrix(rows, cols):\n",
    "    return np.ones((rows, cols))\n",
    "print(\"12. Ones matrix:\", create_ones_matrix(2, 3))\n"
   ]
  },
  {
   "cell_type": "code",
   "execution_count": 81,
   "metadata": {},
   "outputs": [
    {
     "name": "stdout",
     "output_type": "stream",
     "text": [
      "13. Range array: [0 2 4 6 8]\n"
     ]
    }
   ],
   "source": [
    "def generate_range_array(start, stop, step):\n",
    "    return np.arange(start, stop, step)\n",
    "print(\"13. Range array:\", generate_range_array(0, 10, 2))\n"
   ]
  },
  {
   "cell_type": "code",
   "execution_count": 82,
   "metadata": {},
   "outputs": [
    {
     "name": "stdout",
     "output_type": "stream",
     "text": [
      "14. Linear space: [0.   0.25 0.5  0.75 1.  ]\n"
     ]
    }
   ],
   "source": [
    "def generate_linear_space(start, stop, num):\n",
    "    return np.linspace(start, stop, num)\n",
    "print(\"14. Linear space:\", generate_linear_space(0, 1, 5))\n"
   ]
  },
  {
   "cell_type": "code",
   "execution_count": 83,
   "metadata": {},
   "outputs": [
    {
     "name": "stdout",
     "output_type": "stream",
     "text": [
      "15. Identity matrix: [[1. 0. 0.]\n",
      " [0. 1. 0.]\n",
      " [0. 0. 1.]]\n"
     ]
    }
   ],
   "source": [
    "def create_identity_matrix(n):\n",
    "    return np.eye(n)\n",
    "print(\"15. Identity matrix:\", create_identity_matrix(3))\n"
   ]
  },
  {
   "cell_type": "code",
   "execution_count": 84,
   "metadata": {},
   "outputs": [
    {
     "name": "stdout",
     "output_type": "stream",
     "text": [
      "16. List to array: [1 2 3]\n"
     ]
    }
   ],
   "source": [
    "def list_to_array(py_list):\n",
    "    return np.array(py_list)\n",
    "print(\"16. List to array:\", list_to_array([1, 2, 3]))\n"
   ]
  },
  {
   "cell_type": "code",
   "execution_count": 85,
   "metadata": {},
   "outputs": [
    {
     "name": "stdout",
     "output_type": "stream",
     "text": [
      "17. Original array: [1 2 3 4] View: [1 2 3 4]\n"
     ]
    }
   ],
   "source": [
    "arr = np.array([1, 2, 3, 4])\n",
    "arr_view = arr.view()\n",
    "print(\"17. Original array:\", arr, \"View:\", arr_view)"
   ]
  },
  {
   "cell_type": "code",
   "execution_count": 86,
   "metadata": {},
   "outputs": [
    {
     "name": "stdout",
     "output_type": "stream",
     "text": [
      "18. Concatenated array: [1 2 3 4]\n"
     ]
    }
   ],
   "source": [
    "def concatenate_arrays(arr1, arr2, axis=0):\n",
    "    return np.concatenate((arr1, arr2), axis=axis)\n",
    "print(\"18. Concatenated array:\", concatenate_arrays(np.array([1, 2]), np.array([3, 4])))\n"
   ]
  },
  {
   "cell_type": "code",
   "execution_count": 87,
   "metadata": {},
   "outputs": [
    {
     "name": "stdout",
     "output_type": "stream",
     "text": [
      "19. Horizontal concatenation: [[1 2 5]\n",
      " [3 4 6]]\n"
     ]
    }
   ],
   "source": [
    "arr1 = np.array([[1, 2], [3, 4]])\n",
    "arr2 = np.array([[5], [6]])\n",
    "print(\"19. Horizontal concatenation:\", np.hstack((arr1, arr2)))\n"
   ]
  },
  {
   "cell_type": "code",
   "execution_count": 88,
   "metadata": {},
   "outputs": [
    {
     "name": "stdout",
     "output_type": "stream",
     "text": [
      "26. 3rd element: 2\n"
     ]
    }
   ],
   "source": [
    "arr = np.array([0, 1, 2, 3, 4, 5])\n",
    "print(\"26. 3rd element:\", arr[2])"
   ]
  },
  {
   "cell_type": "code",
   "execution_count": 89,
   "metadata": {},
   "outputs": [
    {
     "name": "stdout",
     "output_type": "stream",
     "text": [
      "27. Element at (1,2): 6\n"
     ]
    }
   ],
   "source": [
    "arr_2d = np.array([[1, 2, 3], [4, 5, 6]])\n",
    "print(\"27. Element at (1,2):\", arr_2d[1, 2])"
   ]
  },
  {
   "cell_type": "code",
   "execution_count": 90,
   "metadata": {},
   "outputs": [
    {
     "name": "stdout",
     "output_type": "stream",
     "text": [
      "28. Elements > 5: [6 7 8]\n"
     ]
    }
   ],
   "source": [
    "arr = np.array([1, 6, 3, 7, 2, 8])\n",
    "print(\"28. Elements > 5:\", arr[arr > 5])"
   ]
  },
  {
   "cell_type": "code",
   "execution_count": 91,
   "metadata": {},
   "outputs": [
    {
     "name": "stdout",
     "output_type": "stream",
     "text": [
      "29. Slice [2:6]: [3 7 2 8]\n"
     ]
    }
   ],
   "source": [
    "print(\"29. Slice [2:6]:\", arr[2:6])"
   ]
  },
  {
   "cell_type": "code",
   "execution_count": 92,
   "metadata": {},
   "outputs": [
    {
     "name": "stdout",
     "output_type": "stream",
     "text": [
      "30. Sub-array: [[2 3]\n",
      " [5 6]]\n"
     ]
    }
   ],
   "source": [
    "arr_2d = np.array([[1, 2, 3], [4, 5, 6], [7, 8, 9]])\n",
    "print(\"30. Sub-array:\", arr_2d[0:2, 1:3])"
   ]
  },
  {
   "cell_type": "code",
   "execution_count": 93,
   "metadata": {},
   "outputs": [
    {
     "name": "stdout",
     "output_type": "stream",
     "text": [
      "31. Elements at indices: [1 6]\n"
     ]
    }
   ],
   "source": [
    "arr_2d = np.array([[1, 2, 3], [4, 5, 6]])\n",
    "indices = np.array([[0, 0], [1, 2]])\n",
    "print(\"31. Elements at indices:\", arr_2d[indices[:, 0], indices[:, 1]])"
   ]
  },
  {
   "cell_type": "code",
   "execution_count": 94,
   "metadata": {},
   "outputs": [
    {
     "name": "stdout",
     "output_type": "stream",
     "text": [
      "32. Elements > threshold: [6 7 8]\n"
     ]
    }
   ],
   "source": [
    "arr = np.array([1, 6, 3, 7, 2, 8])\n",
    "threshold = 5\n",
    "print(\"32. Elements > threshold:\", arr[arr > threshold])"
   ]
  },
  {
   "cell_type": "code",
   "execution_count": 95,
   "metadata": {},
   "outputs": [
    {
     "name": "stdout",
     "output_type": "stream",
     "text": [
      "33. 3D array elements: [1 8]\n"
     ]
    }
   ],
   "source": [
    "arr_3d = np.array([[[1, 2], [3, 4]], [[5, 6], [7, 8]]])\n",
    "indices = (np.array([0, 1]), np.array([0, 1]), np.array([0, 1]))\n",
    "print(\"33. 3D array elements:\", arr_3d[indices])"
   ]
  },
  {
   "cell_type": "code",
   "execution_count": 96,
   "metadata": {},
   "outputs": [
    {
     "name": "stdout",
     "output_type": "stream",
     "text": [
      "34. Elements > 3 and < 7: [6]\n"
     ]
    }
   ],
   "source": [
    "arr = np.array([1, 6, 3, 7, 2, 8])\n",
    "print(\"34. Elements > 3 and < 7:\", arr[(arr > 3) & (arr < 7)])"
   ]
  },
  {
   "cell_type": "code",
   "execution_count": 97,
   "metadata": {},
   "outputs": [
    {
     "name": "stdout",
     "output_type": "stream",
     "text": [
      "35. Elements at indices: [2 6]\n"
     ]
    }
   ],
   "source": [
    "arr_2d = np.array([[1, 2, 3], [4, 5, 6]])\n",
    "row_indices = np.array([0, 1])\n",
    "col_indices = np.array([1, 2])\n",
    "print(\"35. Elements at indices:\", arr_2d[row_indices, col_indices])"
   ]
  },
  {
   "cell_type": "code",
   "execution_count": 98,
   "metadata": {},
   "outputs": [
    {
     "name": "stdout",
     "output_type": "stream",
     "text": [
      "36. Add scalar 5: [6 7 8]\n"
     ]
    }
   ],
   "source": [
    "arr = np.array([1, 2, 3])\n",
    "print(\"36. Add scalar 5:\", arr + 5)"
   ]
  },
  {
   "cell_type": "code",
   "execution_count": 99,
   "metadata": {},
   "outputs": [
    {
     "name": "stdout",
     "output_type": "stream",
     "text": [
      "37. Row multiplication: [[ 1  2  3  4]\n",
      " [10 12 14 16]\n",
      " [27 30 33 36]]\n"
     ]
    }
   ],
   "source": [
    "arr_3x4 = np.array([[1, 2, 3, 4], [5, 6, 7, 8], [9, 10, 11, 12]])\n",
    "arr_1x3 = np.array([[1, 2, 3]])\n",
    "print(\"37. Row multiplication:\", arr_3x4 * arr_1x3.T)"
   ]
  },
  {
   "cell_type": "code",
   "execution_count": 100,
   "metadata": {},
   "outputs": [
    {
     "name": "stdout",
     "output_type": "stream",
     "text": [
      "38. Broadcasting addition: [[ 2  3  4]\n",
      " [ 6  7  8]\n",
      " [10 11 12]\n",
      " [14 15 16]]\n"
     ]
    }
   ],
   "source": [
    "arr_4x3 = np.array([[1, 2, 3], [4, 5, 6], [7, 8, 9], [10, 11, 12]])\n",
    "arr_1x4 = np.array([[1, 2, 3, 4]])\n",
    "print(\"38. Broadcasting addition:\", arr_4x3 + arr_1x4.T)"
   ]
  },
  {
   "cell_type": "code",
   "execution_count": 101,
   "metadata": {},
   "outputs": [
    {
     "name": "stdout",
     "output_type": "stream",
     "text": [
      "39. Broadcasting addition: [[5 6 7]\n",
      " [6 7 8]\n",
      " [7 8 9]]\n"
     ]
    }
   ],
   "source": [
    "arr_3x1 = np.array([[1], [2], [3]])\n",
    "arr_1x3 = np.array([[4, 5, 6]])\n",
    "print(\"39. Broadcasting addition:\", arr_3x1 + arr_1x3)"
   ]
  },
  {
   "cell_type": "code",
   "execution_count": 102,
   "metadata": {},
   "outputs": [
    {
     "name": "stdout",
     "output_type": "stream",
     "text": [
      "40. Shape incompatibility error: operands could not be broadcast together with shapes (2,3) (2,2) \n"
     ]
    }
   ],
   "source": [
    "arr_2x3 = np.array([[1, 2, 3], [4, 5, 6]])\n",
    "arr_2x2 = np.array([[1, 2], [3, 4]])\n",
    "try:\n",
    "    print(arr_2x3 * arr_2x2)\n",
    "except ValueError as e:\n",
    "    print(\"40. Shape incompatibility error:\", str(e))\n"
   ]
  },
  {
   "cell_type": "code",
   "execution_count": 103,
   "metadata": {},
   "outputs": [
    {
     "name": "stdout",
     "output_type": "stream",
     "text": [
      "41. Column-wise mean: [2.5 3.5 4.5]\n"
     ]
    }
   ],
   "source": [
    "arr_2d = np.array([[1, 2, 3], [4, 5, 6]])\n",
    "print(\"41. Column-wise mean:\", np.mean(arr_2d, axis=0))"
   ]
  },
  {
   "cell_type": "code",
   "execution_count": 104,
   "metadata": {},
   "outputs": [
    {
     "name": "stdout",
     "output_type": "stream",
     "text": [
      "42. Row-wise max: [3 6]\n"
     ]
    }
   ],
   "source": [
    "print(\"42. Row-wise max:\", np.max(arr_2d, axis=1))"
   ]
  },
  {
   "cell_type": "code",
   "execution_count": 105,
   "metadata": {},
   "outputs": [
    {
     "name": "stdout",
     "output_type": "stream",
     "text": [
      "43. Column-wise max indices: [1 1 1]\n"
     ]
    }
   ],
   "source": [
    "print(\"43. Column-wise max indices:\", np.argmax(arr_2d, axis=0))"
   ]
  },
  {
   "cell_type": "code",
   "execution_count": 106,
   "metadata": {},
   "outputs": [
    {
     "name": "stdout",
     "output_type": "stream",
     "text": [
      "44. Moving sum: [[5 7 9]]\n"
     ]
    }
   ],
   "source": [
    "def moving_sum(arr, window=2):\n",
    "    return np.array([np.sum(arr[i:i+window], axis=0) for i in range(len(arr)-window+1)])\n",
    "print(\"44. Moving sum:\", moving_sum(arr_2d))"
   ]
  },
  {
   "cell_type": "code",
   "execution_count": 107,
   "metadata": {},
   "outputs": [
    {
     "name": "stdout",
     "output_type": "stream",
     "text": [
      "45. All even in columns: [ True  True  True]\n"
     ]
    }
   ],
   "source": [
    "arr_2d = np.array([[2, 4, 6], [8, 10, 12]])\n",
    "print(\"45. All even in columns:\", np.all(arr_2d % 2 == 0, axis=0))"
   ]
  },
  {
   "cell_type": "code",
   "execution_count": 108,
   "metadata": {},
   "outputs": [
    {
     "name": "stdout",
     "output_type": "stream",
     "text": [
      "46. Reshaped array: [[1 2 3]\n",
      " [4 5 6]]\n"
     ]
    }
   ],
   "source": [
    "arr = np.array([1, 2, 3, 4, 5, 6])\n",
    "print(\"46. Reshaped array:\", np.reshape(arr, (2, 3)))"
   ]
  },
  {
   "cell_type": "code",
   "execution_count": 109,
   "metadata": {},
   "outputs": [
    {
     "name": "stdout",
     "output_type": "stream",
     "text": [
      "47. Flattened array: [1 2 3 4]\n"
     ]
    }
   ],
   "source": [
    "arr_2d = np.array([[1, 2], [3, 4]])\n",
    "print(\"47. Flattened array:\", arr_2d.flatten())"
   ]
  },
  {
   "cell_type": "code",
   "execution_count": 110,
   "metadata": {},
   "outputs": [
    {
     "name": "stdout",
     "output_type": "stream",
     "text": [
      "48. Concatenated array: [1 2 3 4]\n"
     ]
    }
   ],
   "source": [
    "arr1 = np.array([1, 2])\n",
    "arr2 = np.array([3, 4])\n",
    "print(\"48. Concatenated array:\", np.concatenate((arr1, arr2)))"
   ]
  },
  {
   "cell_type": "code",
   "execution_count": 111,
   "metadata": {},
   "outputs": [
    {
     "name": "stdout",
     "output_type": "stream",
     "text": [
      "49. Split arrays: [array([1, 2]), array([3, 4]), array([5, 6])]\n"
     ]
    }
   ],
   "source": [
    "print(\"49. Split arrays:\", np.split(arr, 3))"
   ]
  },
  {
   "cell_type": "code",
   "execution_count": 112,
   "metadata": {},
   "outputs": [
    {
     "name": "stdout",
     "output_type": "stream",
     "text": [
      "51. Element-wise addition: [5 7 9]\n"
     ]
    }
   ],
   "source": [
    "arr1 = np.array([1, 2, 3])\n",
    "arr2 = np.array([4, 5, 6])\n",
    "print(\"51. Element-wise addition:\", arr1 + arr2)"
   ]
  },
  {
   "cell_type": "code",
   "execution_count": 113,
   "metadata": {},
   "outputs": [
    {
     "name": "stdout",
     "output_type": "stream",
     "text": [
      "52. Element-wise subtraction: [-3 -3 -3]\n"
     ]
    }
   ],
   "source": [
    "print(\"52. Element-wise subtraction:\", arr1 - arr2)"
   ]
  },
  {
   "cell_type": "code",
   "execution_count": 114,
   "metadata": {},
   "outputs": [
    {
     "name": "stdout",
     "output_type": "stream",
     "text": [
      "53. Element-wise multiplication: [ 4 10 18]\n"
     ]
    }
   ],
   "source": [
    "print(\"53. Element-wise multiplication:\", arr1 * arr2)"
   ]
  },
  {
   "cell_type": "code",
   "execution_count": 115,
   "metadata": {},
   "outputs": [
    {
     "name": "stdout",
     "output_type": "stream",
     "text": [
      "54. Element-wise division: [0.25 0.4  0.5 ]\n"
     ]
    }
   ],
   "source": [
    "print(\"54. Element-wise division:\", arr1 / arr2)"
   ]
  },
  {
   "cell_type": "code",
   "execution_count": 116,
   "metadata": {},
   "outputs": [
    {
     "name": "stdout",
     "output_type": "stream",
     "text": [
      "55. Element-wise exponentiation: [  1  32 729]\n"
     ]
    }
   ],
   "source": [
    "print(\"55. Element-wise exponentiation:\", arr1 ** arr2)"
   ]
  },
  {
   "cell_type": "code",
   "execution_count": 117,
   "metadata": {},
   "outputs": [
    {
     "name": "stdout",
     "output_type": "stream",
     "text": [
      "56. Substring 'hello' count: [1 0 1]\n"
     ]
    }
   ],
   "source": [
    "str_arr = np.array(['hello', 'world', 'hello world'])\n",
    "print(\"56. Substring 'hello' count:\", np.char.count(str_arr, 'hello'))\n"
   ]
  },
  {
   "cell_type": "code",
   "execution_count": 118,
   "metadata": {},
   "outputs": [
    {
     "name": "stdout",
     "output_type": "stream",
     "text": [
      "57. Uppercase characters: ['HELLO' 'WORLD' 'PYTHON']\n"
     ]
    }
   ],
   "source": [
    "str_arr = np.array(['Hello', 'World', 'Python'])\n",
    "print(\"57. Uppercase characters:\", np.char.upper(str_arr))"
   ]
  },
  {
   "cell_type": "code",
   "execution_count": 119,
   "metadata": {},
   "outputs": [
    {
     "name": "stdout",
     "output_type": "stream",
     "text": [
      "58. Replace 'l' with 'x': ['Hexxo' 'Worxd' 'Python']\n"
     ]
    }
   ],
   "source": [
    "print(\"58. Replace 'l' with 'x':\", np.char.replace(str_arr, 'l', 'x'))\n"
   ]
  },
  {
   "cell_type": "code",
   "execution_count": 120,
   "metadata": {},
   "outputs": [
    {
     "name": "stdout",
     "output_type": "stream",
     "text": [
      "59. Concatenated strings: ['Hello!' 'World!' 'Python!']\n"
     ]
    }
   ],
   "source": [
    "str_arr2 = np.array(['!', '!', '!'])\n",
    "print(\"59. Concatenated strings:\", np.char.add(str_arr, str_arr2))"
   ]
  },
  {
   "cell_type": "code",
   "execution_count": 121,
   "metadata": {},
   "outputs": [
    {
     "name": "stdout",
     "output_type": "stream",
     "text": [
      "60. Longest string length: 6\n"
     ]
    }
   ],
   "source": [
    "print(\"60. Longest string length:\", np.max(np.char.str_len(str_arr)))"
   ]
  },
  {
   "cell_type": "code",
   "execution_count": 122,
   "metadata": {},
   "outputs": [
    {
     "name": "stdout",
     "output_type": "stream",
     "text": [
      "61. Mean: 496.62 Median: 501.0 Variance: 81660.47559999999 Std Dev: 285.76297100919146\n"
     ]
    }
   ],
   "source": [
    "rand_arr = np.random.randint(1, 1001, 100)\n",
    "print(\"61. Mean:\", np.mean(rand_arr), \"Median:\", np.median(rand_arr),\n",
    "      \"Variance:\", np.var(rand_arr), \"Std Dev:\", np.std(rand_arr))"
   ]
  },
  {
   "cell_type": "code",
   "execution_count": 123,
   "metadata": {},
   "outputs": [
    {
     "name": "stdout",
     "output_type": "stream",
     "text": [
      "62. 25th and 75th percentiles: [35. 77.]\n"
     ]
    }
   ],
   "source": [
    "rand_arr = np.random.randint(1, 101, 50)\n",
    "print(\"62. 25th and 75th percentiles:\", np.percentile(rand_arr, [25, 75]))\n"
   ]
  },
  {
   "cell_type": "code",
   "execution_count": 124,
   "metadata": {},
   "outputs": [
    {
     "name": "stdout",
     "output_type": "stream",
     "text": [
      "63. Correlation coefficient: [[1. 1.]\n",
      " [1. 1.]]\n"
     ]
    }
   ],
   "source": [
    "arr1 = np.array([1, 2, 3, 4])\n",
    "arr2 = np.array([2, 4, 6, 8])\n",
    "print(\"63. Correlation coefficient:\", np.corrcoef(arr1, arr2))\n"
   ]
  },
  {
   "cell_type": "code",
   "execution_count": 125,
   "metadata": {},
   "outputs": [
    {
     "name": "stdout",
     "output_type": "stream",
     "text": [
      "64. Matrix multiplication: [[19 22]\n",
      " [43 50]]\n"
     ]
    }
   ],
   "source": [
    "arr1 = np.array([[1, 2], [3, 4]])\n",
    "arr2 = np.array([[5, 6], [7, 8]])\n",
    "print(\"64. Matrix multiplication:\", np.dot(arr1, arr2))"
   ]
  },
  {
   "cell_type": "code",
   "execution_count": 126,
   "metadata": {},
   "outputs": [
    {
     "name": "stdout",
     "output_type": "stream",
     "text": [
      "65. Percentiles (10th, 50th, 90th): [17.9 49.  86. ] Quartiles: [26.25 49.   72.5 ]\n"
     ]
    }
   ],
   "source": [
    "rand_arr = np.random.randint(1, 101, 50)\n",
    "print(\"65. Percentiles (10th, 50th, 90th):\", np.percentile(rand_arr, [10, 50, 90]),\n",
    "      \"Quartiles:\", np.percentile(rand_arr, [25, 50, 75]))"
   ]
  },
  {
   "cell_type": "code",
   "execution_count": 127,
   "metadata": {},
   "outputs": [
    {
     "name": "stdout",
     "output_type": "stream",
     "text": [
      "66. Index of 3: 2\n"
     ]
    }
   ],
   "source": [
    "arr = np.array([1, 2, 3, 4])\n",
    "print(\"66. Index of 3:\", np.where(arr == 3)[0][0])"
   ]
  },
  {
   "cell_type": "code",
   "execution_count": 128,
   "metadata": {},
   "outputs": [
    {
     "name": "stdout",
     "output_type": "stream",
     "text": [
      "67. Sorted array: [15 24 59 81 93]\n"
     ]
    }
   ],
   "source": [
    "rand_arr = np.random.randint(1, 100, 5)\n",
    "print(\"67. Sorted array:\", np.sort(rand_arr))"
   ]
  },
  {
   "cell_type": "code",
   "execution_count": 129,
   "metadata": {},
   "outputs": [
    {
     "name": "stdout",
     "output_type": "stream",
     "text": [
      "68. Elements > 20: [30 25]\n"
     ]
    }
   ],
   "source": [
    "arr = np.array([10, 30, 15, 25])\n",
    "print(\"68. Elements > 20:\", arr[arr > 20])"
   ]
  },
  {
   "cell_type": "code",
   "execution_count": 130,
   "metadata": {},
   "outputs": [
    {
     "name": "stdout",
     "output_type": "stream",
     "text": [
      "69. Elements divisible by 3: [30 15]\n"
     ]
    }
   ],
   "source": [
    "print(\"69. Elements divisible by 3:\", arr[arr % 3 == 0])"
   ]
  },
  {
   "cell_type": "code",
   "execution_count": 131,
   "metadata": {},
   "outputs": [
    {
     "name": "stdout",
     "output_type": "stream",
     "text": [
      "70. Elements between 20 and 40: [30 25]\n"
     ]
    }
   ],
   "source": [
    "print(\"70. Elements between 20 and 40:\", arr[(arr >= 20) & (arr <= 40)])"
   ]
  },
  {
   "cell_type": "code",
   "execution_count": 132,
   "metadata": {},
   "outputs": [
    {
     "name": "stdout",
     "output_type": "stream",
     "text": [
      "71. Byte order: =\n"
     ]
    }
   ],
   "source": [
    "arr = np.array([1, 2, 3])\n",
    "print(\"71. Byte order:\", arr.dtype.byteorder)"
   ]
  },
  {
   "cell_type": "code",
   "execution_count": 133,
   "metadata": {},
   "outputs": [
    {
     "name": "stdout",
     "output_type": "stream",
     "text": [
      "72. Byte swapped array: [ 72057594037927936 144115188075855872 216172782113783808]\n"
     ]
    }
   ],
   "source": [
    "arr_swapped = arr.byteswap()\n",
    "print(\"72. Byte swapped array:\", arr_swapped)"
   ]
  },
  {
   "cell_type": "code",
   "execution_count": null,
   "metadata": {},
   "outputs": [],
   "source": []
  }
 ],
 "metadata": {
  "kernelspec": {
   "display_name": "Python 3 (ipykernel)",
   "language": "python",
   "name": "python3"
  },
  "language_info": {
   "codemirror_mode": {
    "name": "ipython",
    "version": 3
   },
   "file_extension": ".py",
   "mimetype": "text/x-python",
   "name": "python",
   "nbconvert_exporter": "python",
   "pygments_lexer": "ipython3",
   "version": "3.12.7"
  }
 },
 "nbformat": 4,
 "nbformat_minor": 4
}
